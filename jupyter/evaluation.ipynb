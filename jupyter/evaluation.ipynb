{
 "cells": [
  {
   "cell_type": "markdown",
   "id": "15ae93e4-19b3-44bc-a225-463d3426adcc",
   "metadata": {},
   "source": [
    "### evaluating our algorithm"
   ]
  },
  {
   "cell_type": "code",
   "execution_count": 45,
   "id": "a7c5c231-8a3b-49e9-8388-52b12da71df7",
   "metadata": {},
   "outputs": [],
   "source": [
    "import pickle\n",
    "import numpy as np\n",
    "import pandas as pd\n",
    "import seaborn as sns\n",
    "import matplotlib.pyplot as plt\n",
    "from sklearn.ensemble import IsolationForest\n",
    "\n",
    "dfTest=pd.read_csv('testTransactions.csv')\n",
    "df=pd.read_csv('trainTransactions.csv')\n",
    "\n",
    "\n",
    "\n",
    "\n",
    "# creating data frame to save the real values and the predicted values with the transaction number\n",
    "allPredictions=pd.DataFrame(columns=['trans_num','is_fraud','prediction'])\n",
    "\n",
    "for userid in dfTest['user_id'].unique():\n",
    "    #print(f'user ID : {userid}')\n",
    "    \n",
    "    \n",
    "    \n",
    "    # split data\n",
    "    userTrain=df[df['id']==userid]\n",
    "    userTest=dfTest[dfTest['user_id']==userid]\n",
    "    \n",
    "    temp=userTest[userTest['user_id']==userid][['trans_num','is_fraud']]\n",
    "    \n",
    "    # Load from file\n",
    "    with open(f'models123/{userid}.pkl', 'rb') as file:\n",
    "        model = pickle.load(file)\n",
    "        \n",
    "    # predict the test set and save the result in a temporary datafram to merge with dataframe for all the results\n",
    "    temp['prediction']=model.predict(userTest[['amt','unix_time','merch_lat','merch_long','minutes_from_midnight','hours_from_month_start']])\n",
    "    frames = [allPredictions, temp]\n",
    "    allPredictions = pd.concat(frames)\n",
    "    "
   ]
  },
  {
   "cell_type": "code",
   "execution_count": null,
   "id": "7a0bd94e-b566-4cf0-8f67-96e49862fa0a",
   "metadata": {},
   "outputs": [],
   "source": [
    "'''\n",
    "the results are\n",
    "prediction : -1 means its fraud\n",
    "prediction : 1 means its legitimate\n",
    "\n",
    "and now we will convert them to 1 and 0\n",
    "'''\n"
   ]
  },
  {
   "cell_type": "markdown",
   "id": "573fc011-20bb-4ec2-8b2d-fc8afc93f1b7",
   "metadata": {},
   "source": [
    "### converting the results to 1 and 0 "
   ]
  },
  {
   "cell_type": "code",
   "execution_count": 61,
   "id": "b4f80d9c-e4a2-484f-86c0-69d11aa4a2b7",
   "metadata": {},
   "outputs": [],
   "source": [
    "allPredictions.loc[allPredictions.prediction == 1, 'prediction']=0"
   ]
  },
  {
   "cell_type": "code",
   "execution_count": 62,
   "id": "3c4779d1-50ef-4968-b2a2-4a5f12da9331",
   "metadata": {},
   "outputs": [],
   "source": [
    "allPredictions.loc[allPredictions.prediction == -1, 'prediction']=1"
   ]
  },
  {
   "cell_type": "code",
   "execution_count": 63,
   "id": "9ffd371e-ac5b-4157-825a-7e76c5610597",
   "metadata": {},
   "outputs": [
    {
     "data": {
      "text/html": [
       "<div>\n",
       "<style scoped>\n",
       "    .dataframe tbody tr th:only-of-type {\n",
       "        vertical-align: middle;\n",
       "    }\n",
       "\n",
       "    .dataframe tbody tr th {\n",
       "        vertical-align: top;\n",
       "    }\n",
       "\n",
       "    .dataframe thead th {\n",
       "        text-align: right;\n",
       "    }\n",
       "</style>\n",
       "<table border=\"1\" class=\"dataframe\">\n",
       "  <thead>\n",
       "    <tr style=\"text-align: right;\">\n",
       "      <th></th>\n",
       "      <th>trans_num</th>\n",
       "      <th>is_fraud</th>\n",
       "      <th>prediction</th>\n",
       "    </tr>\n",
       "  </thead>\n",
       "  <tbody>\n",
       "    <tr>\n",
       "      <th>0</th>\n",
       "      <td>2da90c7d74bd46a0caf3777415b3ebd3</td>\n",
       "      <td>0</td>\n",
       "      <td>0</td>\n",
       "    </tr>\n",
       "    <tr>\n",
       "      <th>606</th>\n",
       "      <td>2ba65201d0c9119227e27b6640ff4415</td>\n",
       "      <td>0</td>\n",
       "      <td>0</td>\n",
       "    </tr>\n",
       "    <tr>\n",
       "      <th>4324</th>\n",
       "      <td>373feae82bc309c74b479ffd50b5934b</td>\n",
       "      <td>0</td>\n",
       "      <td>0</td>\n",
       "    </tr>\n",
       "    <tr>\n",
       "      <th>4340</th>\n",
       "      <td>844797fd827b566709aceea6ee8f29f2</td>\n",
       "      <td>0</td>\n",
       "      <td>1</td>\n",
       "    </tr>\n",
       "    <tr>\n",
       "      <th>4590</th>\n",
       "      <td>eca0b9de2d98820fb84119ad57a9c06c</td>\n",
       "      <td>0</td>\n",
       "      <td>0</td>\n",
       "    </tr>\n",
       "  </tbody>\n",
       "</table>\n",
       "</div>"
      ],
      "text/plain": [
       "                             trans_num is_fraud prediction\n",
       "0     2da90c7d74bd46a0caf3777415b3ebd3        0          0\n",
       "606   2ba65201d0c9119227e27b6640ff4415        0          0\n",
       "4324  373feae82bc309c74b479ffd50b5934b        0          0\n",
       "4340  844797fd827b566709aceea6ee8f29f2        0          1\n",
       "4590  eca0b9de2d98820fb84119ad57a9c06c        0          0"
      ]
     },
     "execution_count": 63,
     "metadata": {},
     "output_type": "execute_result"
    }
   ],
   "source": [
    "allPredictions.head()\n"
   ]
  },
  {
   "cell_type": "markdown",
   "id": "70cd0ed7-cf36-43a6-8dab-7e1088b2a12d",
   "metadata": {},
   "source": [
    "### saving the results "
   ]
  },
  {
   "cell_type": "code",
   "execution_count": 64,
   "id": "05a80ded-86ee-460c-ab8f-b9054fbb62b0",
   "metadata": {},
   "outputs": [],
   "source": [
    "allPredictions.to_csv('allPredictions.csv')"
   ]
  },
  {
   "cell_type": "markdown",
   "id": "1a637912-c8ab-4b16-af71-6aed8d5295fa",
   "metadata": {},
   "source": [
    "### getting some percentages as a results"
   ]
  },
  {
   "cell_type": "code",
   "execution_count": 68,
   "id": "adccce44-913b-464c-a981-691cdefa702a",
   "metadata": {},
   "outputs": [
    {
     "data": {
      "text/plain": [
       "0.6905298475761219"
      ]
     },
     "execution_count": 68,
     "metadata": {},
     "output_type": "execute_result"
    }
   ],
   "source": [
    "\n",
    "#accuracy For All transactions\n",
    "len(allPredictions[((allPredictions['is_fraud']==1) & (allPredictions['prediction']==1)) | ((allPredictions['is_fraud']==0) & (allPredictions['prediction']==0))])/len(allPredictions)\n"
   ]
  },
  {
   "cell_type": "code",
   "execution_count": 71,
   "id": "d9b7f0d0-6e2e-4b5c-b24c-7530f921cbbb",
   "metadata": {},
   "outputs": [
    {
     "data": {
      "text/plain": [
       "0.850151362260343"
      ]
     },
     "execution_count": 71,
     "metadata": {},
     "output_type": "execute_result"
    }
   ],
   "source": [
    "#TP accuracy of the real fraud transactions : that means from 100 fraud transaction , our algorithm will catch 85 \n",
    "len(allPredictions[((allPredictions['is_fraud']==1) & (allPredictions['prediction']==1)) ])/len(allPredictions[allPredictions['is_fraud']==1])"
   ]
  },
  {
   "cell_type": "code",
   "execution_count": 72,
   "id": "c2886f67-a8dd-4541-b056-ec498c849fe1",
   "metadata": {},
   "outputs": [
    {
     "data": {
      "text/plain": [
       "0.689958343419308"
      ]
     },
     "execution_count": 72,
     "metadata": {},
     "output_type": "execute_result"
    }
   ],
   "source": [
    "#TN accuracy of the real legitimate transactions : that means from 100 legitimate transaction , our algorithm will predict correctly 65\n",
    "len(allPredictions[((allPredictions['is_fraud']==0) & (allPredictions['prediction']==0)) ])/len(allPredictions[allPredictions['is_fraud']==0])"
   ]
  }
 ],
 "metadata": {
  "kernelspec": {
   "display_name": "Python 3",
   "language": "python",
   "name": "python3"
  },
  "language_info": {
   "codemirror_mode": {
    "name": "ipython",
    "version": 3
   },
   "file_extension": ".py",
   "mimetype": "text/x-python",
   "name": "python",
   "nbconvert_exporter": "python",
   "pygments_lexer": "ipython3",
   "version": "3.9.5"
  }
 },
 "nbformat": 4,
 "nbformat_minor": 5
}
