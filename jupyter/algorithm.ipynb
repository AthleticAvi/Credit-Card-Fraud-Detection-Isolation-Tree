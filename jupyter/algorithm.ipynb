{
 "cells": [
  {
   "cell_type": "code",
   "execution_count": 1,
   "id": "00ad94d9-2253-4954-b1df-6e3333525142",
   "metadata": {},
   "outputs": [],
   "source": [
    "import numpy as np\n",
    "import pandas as pd\n",
    "import seaborn as sns\n",
    "import matplotlib.pyplot as plt\n",
    "from sklearn.ensemble import IsolationForest"
   ]
  },
  {
   "cell_type": "code",
   "execution_count": null,
   "id": "b00180e4-cb07-490a-8676-8eed137ff984",
   "metadata": {},
   "outputs": [],
   "source": []
  },
  {
   "cell_type": "code",
   "execution_count": 2,
   "id": "17e556c5-5f69-4128-918f-06d58d57914e",
   "metadata": {},
   "outputs": [],
   "source": [
    "dfTest=pd.read_csv('testTransactions.csv')"
   ]
  },
  {
   "cell_type": "code",
   "execution_count": 3,
   "id": "4a14b7b9-37b1-4cf8-a2c2-ae32d184f394",
   "metadata": {},
   "outputs": [],
   "source": [
    "df=pd.read_csv('trainTransactions.csv')"
   ]
  },
  {
   "cell_type": "markdown",
   "id": "dc5642ca-a1af-4b18-90d5-155c6b084859",
   "metadata": {},
   "source": [
    "### copy the users ids from the train to the test set with respect to the same user"
   ]
  },
  {
   "cell_type": "code",
   "execution_count": null,
   "id": "4b7977a8-30b7-4949-95cd-93450cf94762",
   "metadata": {},
   "outputs": [],
   "source": [
    "for userid in df['id'].unique():\n",
    "    first=df[df['id']==userid]['first'].unique()[0]\n",
    "    last=df[df['id']==userid]['last'].unique()[0]\n",
    "    \n",
    "    indexesList=dfTest.index[(dfTest['first']==first) & (dfTest['last']==last)].tolist()\n",
    "    \n",
    "    for i,value in enumerate(indexesList):\n",
    "        dfTest['user_id'][value]=userid    \n"
   ]
  },
  {
   "cell_type": "markdown",
   "id": "f87ce5c5-9bb0-424a-a30a-caf3e767e587",
   "metadata": {},
   "source": [
    "### save the testset again with the update (users id)"
   ]
  },
  {
   "cell_type": "code",
   "execution_count": 16,
   "id": "48240870-ab5c-4ef3-9d84-763de34f881e",
   "metadata": {},
   "outputs": [],
   "source": [
    "dfTest.to_csv('testTransactions.csv')"
   ]
  },
  {
   "cell_type": "markdown",
   "id": "ca71a3a6-f92f-4f54-9bf5-b9b635b8bc96",
   "metadata": {},
   "source": [
    "# for each user we create model and train it and saving the trained models in folder with the name \"models123\""
   ]
  },
  {
   "cell_type": "code",
   "execution_count": 17,
   "id": "8edb434c-6bf4-40c6-b57e-62ca57814203",
   "metadata": {},
   "outputs": [],
   "source": [
    "df=pd.read_csv('trainTransactions.csv')"
   ]
  },
  {
   "cell_type": "code",
   "execution_count": 18,
   "id": "97bdee59-54b0-4c79-98de-5c2cba707f53",
   "metadata": {},
   "outputs": [],
   "source": [
    "dfTest=pd.read_csv('testTransactions.csv')"
   ]
  },
  {
   "cell_type": "code",
   "execution_count": null,
   "id": "081ec525-abe7-4776-9c95-186aa70f8fea",
   "metadata": {},
   "outputs": [],
   "source": [
    "# for each user we create model and train it\n",
    "\n",
    "# pickle is library that help us to save the models\n",
    "import pickle\n",
    "\n",
    "models=[]\n",
    "results=pd.DataFrame(columns=['userid','accuracy','number of transactions','number of real true frauds','number of correct predicted frauds','number of true predictions'])\n",
    "for userid in dfTest['user_id'].unique():\n",
    "    \n",
    "    # get the transactions that belong to the current user\n",
    "    userTrain=df[df['id']==userid]\n",
    "    userTest=dfTest[dfTest['user_id']==userid]\n",
    "    \n",
    "    # train\n",
    "    model=IsolationForest(n_estimators=50, max_samples='auto', contamination=float(0.1),max_features=6)\n",
    "    model.fit(userTrain[['amt','unix_time','merch_lat','merch_long','minutes_from_midnight','hours_from_month_start']])\n",
    "\n",
    "    # Save to file in the current working directory\n",
    "    pkl_filename = f\"models123/{userid}.pkl\"\n",
    "    with open(pkl_filename, 'wb') as file:\n",
    "        pickle.dump(model, file)\n",
    "    \n",
    "    "
   ]
  }
 ],
 "metadata": {
  "kernelspec": {
   "display_name": "Python 3",
   "language": "python",
   "name": "python3"
  },
  "language_info": {
   "codemirror_mode": {
    "name": "ipython",
    "version": 3
   },
   "file_extension": ".py",
   "mimetype": "text/x-python",
   "name": "python",
   "nbconvert_exporter": "python",
   "pygments_lexer": "ipython3",
   "version": "3.9.5"
  }
 },
 "nbformat": 4,
 "nbformat_minor": 5
}
